{
 "cells": [
  {
   "cell_type": "markdown",
   "metadata": {},
   "source": [
    "# First steps with data analysis in Python\n",
    "\n",
    "A workshop at [Aspects of Neuroscience](http://neuroaspects.org/) 2016, by [Piotr Migdał](http://p.migdal.pl/).\n",
    "\n",
    "# 2. More of Python"
   ]
  },
  {
   "cell_type": "markdown",
   "metadata": {},
   "source": [
    "## Packages\n",
    "\n",
    "Most of functionalities are in packages. Some are built-in, other require installation.\n",
    "\n",
    "Anaconda distribution starts with common scientific packages."
   ]
  },
  {
   "cell_type": "code",
   "execution_count": 1,
   "metadata": {
    "collapsed": true
   },
   "outputs": [],
   "source": [
    "import math"
   ]
  },
  {
   "cell_type": "code",
   "execution_count": 2,
   "metadata": {
    "collapsed": false
   },
   "outputs": [
    {
     "data": {
      "text/plain": [
       "1.4142135623730951"
      ]
     },
     "execution_count": 2,
     "metadata": {},
     "output_type": "execute_result"
    }
   ],
   "source": [
    "math.sqrt(2)"
   ]
  },
  {
   "cell_type": "code",
   "execution_count": 5,
   "metadata": {
    "collapsed": false
   },
   "outputs": [],
   "source": [
    "math.atan?"
   ]
  },
  {
   "cell_type": "code",
   "execution_count": 6,
   "metadata": {
    "collapsed": true
   },
   "outputs": [],
   "source": [
    "import numpy as np"
   ]
  },
  {
   "cell_type": "code",
   "execution_count": 7,
   "metadata": {
    "collapsed": false
   },
   "outputs": [
    {
     "data": {
      "text/plain": [
       "1.4142135623730951"
      ]
     },
     "execution_count": 7,
     "metadata": {},
     "output_type": "execute_result"
    }
   ],
   "source": [
    "np.sqrt(2)"
   ]
  },
  {
   "cell_type": "code",
   "execution_count": 10,
   "metadata": {
    "collapsed": true
   },
   "outputs": [],
   "source": [
    "np.sqrt?"
   ]
  },
  {
   "cell_type": "code",
   "execution_count": 8,
   "metadata": {
    "collapsed": false
   },
   "outputs": [
    {
     "data": {
      "text/plain": [
       "array([1, 2])"
      ]
     },
     "execution_count": 8,
     "metadata": {},
     "output_type": "execute_result"
    }
   ],
   "source": [
    "v = np.array([1, 2])\n",
    "v"
   ]
  },
  {
   "cell_type": "code",
   "execution_count": 9,
   "metadata": {
    "collapsed": false
   },
   "outputs": [
    {
     "data": {
      "text/plain": [
       "array([[ 1, -4],\n",
       "       [-3,  8]])"
      ]
     },
     "execution_count": 9,
     "metadata": {},
     "output_type": "execute_result"
    }
   ],
   "source": [
    "M = np.array([[1, -4], [-3, 8]])\n",
    "M"
   ]
  },
  {
   "cell_type": "code",
   "execution_count": 14,
   "metadata": {
    "collapsed": false
   },
   "outputs": [
    {
     "data": {
      "text/plain": [
       "array([-7, 13])"
      ]
     },
     "execution_count": 14,
     "metadata": {},
     "output_type": "execute_result"
    }
   ],
   "source": [
    "# Python only 3.5+\n",
    "M @ v"
   ]
  },
  {
   "cell_type": "code",
   "execution_count": 12,
   "metadata": {
    "collapsed": false
   },
   "outputs": [
    {
     "data": {
      "text/plain": [
       "array([-7, 13])"
      ]
     },
     "execution_count": 12,
     "metadata": {},
     "output_type": "execute_result"
    }
   ],
   "source": [
    "M.dot(v)"
   ]
  },
  {
   "cell_type": "markdown",
   "metadata": {},
   "source": [
    "## Filesystem\n",
    "\n",
    "Reading and writing files is a way to interact with data."
   ]
  },
  {
   "cell_type": "code",
   "execution_count": 15,
   "metadata": {
    "collapsed": true
   },
   "outputs": [],
   "source": [
    "import glob"
   ]
  },
  {
   "cell_type": "code",
   "execution_count": 20,
   "metadata": {
    "collapsed": false
   },
   "outputs": [
    {
     "data": {
      "text/plain": [
       "['0_intro.ipynb',\n",
       " '1_basic_programming.ipynb',\n",
       " '2_more_of_python.ipynb',\n",
       " '3_data_analysis.ipynb',\n",
       " 'README.md',\n",
       " 'bike_sharing_day.csv']"
      ]
     },
     "execution_count": 20,
     "metadata": {},
     "output_type": "execute_result"
    }
   ],
   "source": [
    "glob.glob(\"*\")"
   ]
  },
  {
   "cell_type": "code",
   "execution_count": 17,
   "metadata": {
    "collapsed": false
   },
   "outputs": [
    {
     "data": {
      "text/plain": [
       "['README.md']"
      ]
     },
     "execution_count": 17,
     "metadata": {},
     "output_type": "execute_result"
    }
   ],
   "source": [
    "glob.glob(\"*.md\")"
   ]
  },
  {
   "cell_type": "code",
   "execution_count": 18,
   "metadata": {
    "collapsed": false
   },
   "outputs": [
    {
     "name": "stdout",
     "output_type": "stream",
     "text": [
      "# First steps with data analysis in Python\n",
      "\n",
      "[First steps with data analysis in Python](First steps with data analysis in Python) - a 3h hands-on workshop at [Aspects of Neuroscience 2016](http://neuroaspects.org/), 25-27th November 2016 (Warsaw, Poland), by [Piotr Migdał, PhD](http://p.migdal.pl/).\n",
      "\n",
      "## Abstract\n",
      "\n",
      "Do you want to learn how to write scripts, and use programming to solve practical data analysis problems? Python is the way to go! It starts in a simple way, but is one of the best environments for data science (including machine learning and artificial neural networks).\n",
      "\n",
      "You will learn how to load data, process it and make plots.It is a basic introduction, starting from basic structures (like dictionaries and lists) and control flow (if, else, loops). If you are clicking your way to get results, or not yet comfortable it any programming language (but would love to change that!), it is for you!\n",
      "\n",
      "We will be using [Jupyter Notebook](http://jupyter.org/) - an environment, which makes interaction with data convenient and beautiful. Notebooks are also an easy ways to share data analysis and results with others.\n",
      "\n",
      "## Installation\n",
      "\n",
      "Before attending workshops, install [Python 3.5 from Anaconda](ttps://www.continuum.io/downloads). Downloading and installation takes some time, so please do it before (otherwise we won’t wait for you during the workshop). If you have problem with it, drop me an email.\n",
      "\n",
      "Additionally, I recommend opening the command line (or for Windows: Anaconda console) and typing:\n",
      "\n",
      "```bash\n",
      "$ conda install seaborn\n",
      "```\n",
      "\n",
      "to get much nicer plots.\n",
      "\n",
      "## Outline\n",
      "\n",
      "* Programming\n",
      "* Jupyter Notebook\n",
      "* Python basics\n",
      "* Pandas\n",
      "* Project\n",
      "\n"
     ]
    }
   ],
   "source": [
    "file = open(\"README.md\")\n",
    "text = file.read()\n",
    "file.close()\n",
    "print(text)"
   ]
  },
  {
   "cell_type": "code",
   "execution_count": 22,
   "metadata": {
    "collapsed": false
   },
   "outputs": [
    {
     "name": "stdout",
     "output_type": "stream",
     "text": [
      "# First steps with data analysis in Python\n",
      "\n",
      "[First steps with data analysis in Python](First steps with data analysis in Python) - a 3h hands-on workshop at [Aspects of Neuroscience 2016](http://neuroaspects.org/), 25-27th November 2016 (Warsaw, Poland), by [Piotr Migdał, PhD](http://p.migdal.pl/).\n",
      "\n"
     ]
    }
   ],
   "source": [
    "# or to make sure it will get closed\n",
    "with open(\"README.md\") as file:\n",
    "    text = file.read()\n",
    "    print(text[:300])"
   ]
  },
  {
   "cell_type": "code",
   "execution_count": 23,
   "metadata": {
    "collapsed": false
   },
   "outputs": [],
   "source": [
    "with open(\"README_short.md\", 'w') as file_to_write:\n",
    "    file_to_write.write(text[:300])"
   ]
  },
  {
   "cell_type": "markdown",
   "metadata": {},
   "source": [
    "## Internet\n",
    "\n",
    "Getting data from anywhere!"
   ]
  },
  {
   "cell_type": "code",
   "execution_count": 24,
   "metadata": {
    "collapsed": true
   },
   "outputs": [],
   "source": [
    "import requests"
   ]
  },
  {
   "cell_type": "code",
   "execution_count": 25,
   "metadata": {
    "collapsed": true
   },
   "outputs": [],
   "source": [
    "r = requests.get(\"http://p.migdal.pl/\")"
   ]
  },
  {
   "cell_type": "code",
   "execution_count": 26,
   "metadata": {
    "collapsed": false
   },
   "outputs": [
    {
     "data": {
      "text/plain": [
       "200"
      ]
     },
     "execution_count": 26,
     "metadata": {},
     "output_type": "execute_result"
    }
   ],
   "source": [
    "r.status_code"
   ]
  },
  {
   "cell_type": "code",
   "execution_count": 29,
   "metadata": {
    "collapsed": false
   },
   "outputs": [
    {
     "data": {
      "text/plain": [
       "'<!DOCTYPE html>\\n<html>\\n\\n  <head>\\n  <meta charset=\"utf-8\">\\n  <meta http-equiv=\"X-UA-Compatible\" content=\"IE=edge\">\\n  <meta name=\"viewport\" content=\"width=device-width, initial-scale=1\">\\n\\n  <title>Piotr Migdał - blog</title>\\n  <meta name=\"description\" content=\"Piotr Migdał - a data science freelancer, with PhD in quantum physics; based in Warsaw, Poland. Active in gifted education, developing a Quantum Game.\\n\">\\n\\n  <link rel=\"stylesheet\" href=\"/css/main.css\">\\n  <link rel=\"canonical\" href=\"http://p.migdal.pl/\">\\n  <link rel=\"alternate\" type=\"application/rss+xml\" title=\"Piotr Migdał - blog\" href=\"http://p.migdal.pl/feed.xml\">\\n  <link rel=\"stylesheet\" href=\"https://maxcdn.bootstrapcdn.com/font-awesome/4.5.0/css/font-awesome.min.css\">\\n\\n  <meta content=\"Piotr Migdał - blog\" property=\"og:site_name\">\\n  \\n    <meta content=\"Piotr Migdał - blog\" property=\"og:title\">\\n  \\n  \\n    <meta content=\"website\" property=\"og:type\">\\n  \\n  \\n    <meta content=\"Piotr Migdał - a data science freelancer, with PhD in qu'"
      ]
     },
     "execution_count": 29,
     "metadata": {},
     "output_type": "execute_result"
    }
   ],
   "source": [
    "r.text[:1000]"
   ]
  },
  {
   "cell_type": "code",
   "execution_count": 40,
   "metadata": {
    "collapsed": true
   },
   "outputs": [],
   "source": [
    "# https://developers.google.com/maps/documentation/geocoding/start\n",
    "r = requests.get(\"https://maps.googleapis.com/maps/api/geocode/json\",\n",
    "                 params={\"address\": \"Mount Everest\"})"
   ]
  },
  {
   "cell_type": "code",
   "execution_count": 41,
   "metadata": {
    "collapsed": false
   },
   "outputs": [],
   "source": [
    "data = r.json()"
   ]
  },
  {
   "cell_type": "code",
   "execution_count": 42,
   "metadata": {
    "collapsed": false
   },
   "outputs": [
    {
     "data": {
      "text/plain": [
       "dict_keys(['results', 'status'])"
      ]
     },
     "execution_count": 42,
     "metadata": {},
     "output_type": "execute_result"
    }
   ],
   "source": [
    "data.keys()"
   ]
  },
  {
   "cell_type": "code",
   "execution_count": 43,
   "metadata": {
    "collapsed": false
   },
   "outputs": [
    {
     "data": {
      "text/plain": [
       "{'lat': 27.98785, 'lng': 86.9250261}"
      ]
     },
     "execution_count": 43,
     "metadata": {},
     "output_type": "execute_result"
    }
   ],
   "source": [
    "data[\"results\"][0][\"geometry\"][\"location\"]"
   ]
  },
  {
   "cell_type": "markdown",
   "metadata": {},
   "source": [
    "## Installing packages\n",
    "\n",
    "On Linux / OS X you can do it from within Jupyter Notebook. On Windows - open\n",
    "\n",
    "Typically things are installed with `pip install`, from the [PyPI repository](https://pypi.org/)."
   ]
  },
  {
   "cell_type": "code",
   "execution_count": 44,
   "metadata": {
    "collapsed": false
   },
   "outputs": [
    {
     "name": "stdout",
     "output_type": "stream",
     "text": [
      "Requirement already satisfied: tqdm in /Users/pmigdal/anaconda3/lib/python3.5/site-packages\r\n"
     ]
    }
   ],
   "source": [
    "!pip install tqdm"
   ]
  },
  {
   "cell_type": "code",
   "execution_count": 45,
   "metadata": {
    "collapsed": false
   },
   "outputs": [],
   "source": [
    "from tqdm import tqdm\n",
    "from time import sleep"
   ]
  },
  {
   "cell_type": "code",
   "execution_count": 46,
   "metadata": {
    "collapsed": true
   },
   "outputs": [],
   "source": [
    "sleep(2)"
   ]
  },
  {
   "cell_type": "code",
   "execution_count": 48,
   "metadata": {
    "collapsed": false
   },
   "outputs": [
    {
     "name": "stderr",
     "output_type": "stream",
     "text": [
      "100%|██████████| 10/10 [00:05<00:00,  1.98it/s]\n"
     ]
    }
   ],
   "source": [
    "for i in tqdm(range(10)):\n",
    "    sleep(0.5)"
   ]
  },
  {
   "cell_type": "code",
   "execution_count": null,
   "metadata": {
    "collapsed": true
   },
   "outputs": [],
   "source": []
  }
 ],
 "metadata": {
  "anaconda-cloud": {},
  "kernelspec": {
   "display_name": "Python [default]",
   "language": "python",
   "name": "python3"
  },
  "language_info": {
   "codemirror_mode": {
    "name": "ipython",
    "version": 3
   },
   "file_extension": ".py",
   "mimetype": "text/x-python",
   "name": "python",
   "nbconvert_exporter": "python",
   "pygments_lexer": "ipython3",
   "version": "3.5.2"
  }
 },
 "nbformat": 4,
 "nbformat_minor": 1
}
